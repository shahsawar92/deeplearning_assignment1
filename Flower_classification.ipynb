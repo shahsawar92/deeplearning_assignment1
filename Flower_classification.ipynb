{
 "cells": [
  {
   "cell_type": "code",
   "execution_count": 7,
   "metadata": {},
   "outputs": [],
   "source": [
    "import glob\n",
    "import cv2\n",
    "import tensorflow as tf\n",
    "import pandas as pd\n",
    "import numpy as np"
   ]
  },
  {
   "cell_type": "code",
   "execution_count": 19,
   "metadata": {},
   "outputs": [],
   "source": [
    "Daisy_images='./flowers/daisy'\n",
    "Sun_flowers= './flowers/sunflower'\n",
    "dandelion= './flowers/dandelion'\n",
    "rose= './flowers/rose'\n",
    "tulip= './flowers/tulip'"
   ]
  },
  {
   "cell_type": "code",
   "execution_count": 23,
   "metadata": {},
   "outputs": [],
   "source": [
    "def read_images(path):\n",
    "    for img in glob.glob(path +\"/*.*\"):\n",
    "        image= cv2.imread(img)\n",
    "        resized_img= cv2.resize(image/255.0,(240,320))\n",
    "        yield resized_img\n",
    "#daisy_resized = np.array(list(read_images(Daisy_images)))\n",
    "#Sun_flowers = np.array(list(read_images(Sun_flowers)))\n",
    "#dandelion = np.array(list(read_images(dandelion)))\n",
    "#rose = np.array(list(read_images(rose)))\n",
    "#tulip = np.array(list(read_images(tulip)))"
   ]
  },
  {
   "cell_type": "code",
   "execution_count": 24,
   "metadata": {},
   "outputs": [
    {
     "data": {
      "text/plain": [
       "(769, 320, 240, 3)"
      ]
     },
     "execution_count": 24,
     "metadata": {},
     "output_type": "execute_result"
    }
   ],
   "source": [
    "daisy_resized.shape"
   ]
  },
  {
   "cell_type": "code",
   "execution_count": null,
   "metadata": {},
   "outputs": [],
   "source": [
    "label1=np.zeros((daisy_resized.shape[0],1))\n",
    "label2=np.ones((sun_flowers.shape[0],1))\n",
    "label3=np.ones((dandelion.shape[0],1))*2\n",
    "label4=np.ones((rose.shape[0],1))*3\n",
    "label5=np.ones((tulip.shape[0],1))*4"
   ]
  },
  {
   "cell_type": "code",
   "execution_count": null,
   "metadata": {},
   "outputs": [],
   "source": [
    "data=np.concatenate((daisy_resized,sun_flowers,dandelion,rose,tulip))"
   ]
  },
  {
   "cell_type": "code",
   "execution_count": null,
   "metadata": {},
   "outputs": [],
   "source": [
    "label=np.concatenate((label1,label2,label3,label4,label5))"
   ]
  },
  {
   "cell_type": "code",
   "execution_count": null,
   "metadata": {},
   "outputs": [],
   "source": []
  },
  {
   "cell_type": "code",
   "execution_count": null,
   "metadata": {},
   "outputs": [],
   "source": [
    "np.random.seed(2222)\n",
    "mask=np.random.rand(len(data))<0.7\n",
    "train_data=data[mask]\n",
    "test_data[~mask]\n",
    "train_label=label[mask]\n",
    "test_label=label[~mask]"
   ]
  },
  {
   "cell_type": "code",
   "execution_count": null,
   "metadata": {},
   "outputs": [],
   "source": [
    "train_data.reshape(train_data[0].shape,320*240*3)\n",
    "test_data.reshape(test_data[0].shape,320*240*3)\n"
   ]
  },
  {
   "cell_type": "code",
   "execution_count": null,
   "metadata": {},
   "outputs": [],
   "source": [
    "from keras import models\n",
    "from keras import layers\n",
    "model=models.Sequential()\n",
    "model.add(layers.Dense(64,activation='relu',input_shape=(data.shape[1],)))\n",
    "model.add(layers.Dense(8,activation='relu'))\n",
    "model.add(layers.Dense(6,activation='relu'))\n",
    "model.add(layers.Dense(5,activation='softmax'))"
   ]
  },
  {
   "cell_type": "code",
   "execution_count": null,
   "metadata": {},
   "outputs": [],
   "source": [
    "model.compile(optimizer='rmsprop',loss='categorical_crossentropy',matrics=['accuracy'])"
   ]
  }
 ],
 "metadata": {
  "kernelspec": {
   "display_name": "Python 3",
   "language": "python",
   "name": "python3"
  },
  "language_info": {
   "codemirror_mode": {
    "name": "ipython",
    "version": 3
   },
   "file_extension": ".py",
   "mimetype": "text/x-python",
   "name": "python",
   "nbconvert_exporter": "python",
   "pygments_lexer": "ipython3",
   "version": "3.8.5"
  }
 },
 "nbformat": 4,
 "nbformat_minor": 4
}
